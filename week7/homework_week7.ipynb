{
 "cells": [
  {
   "cell_type": "code",
   "execution_count": 1,
   "metadata": {},
   "outputs": [],
   "source": [
    "import pandas as pd\n",
    "import numpy as np\n",
    "import math"
   ]
  },
  {
   "cell_type": "code",
   "execution_count": 2,
   "metadata": {},
   "outputs": [],
   "source": [
    "ratings = pd.read_csv('ml-ratings.csv')"
   ]
  },
  {
   "cell_type": "code",
   "execution_count": 3,
   "metadata": {},
   "outputs": [],
   "source": [
    "preds = pd.read_csv('ml-preds.csv')"
   ]
  },
  {
   "cell_type": "code",
   "execution_count": 4,
   "metadata": {},
   "outputs": [],
   "source": [
    "ratings = ratings.drop(columns='Unnamed: 0')"
   ]
  },
  {
   "cell_type": "code",
   "execution_count": 5,
   "metadata": {},
   "outputs": [],
   "source": [
    "preds = preds.drop(columns='Unnamed: 0')"
   ]
  },
  {
   "cell_type": "markdown",
   "metadata": {},
   "source": [
    "# 1. 전처리"
   ]
  },
  {
   "cell_type": "code",
   "execution_count": 6,
   "metadata": {},
   "outputs": [],
   "source": [
    "ratings_id = ratings.userId.unique()\n",
    "pred_id = preds.userId.unique()"
   ]
  },
  {
   "cell_type": "code",
   "execution_count": 7,
   "metadata": {
    "scrolled": true
   },
   "outputs": [
    {
     "data": {
      "text/plain": [
       "array([  1,   2,   3,   5,   6,   7,   8,  10,  11,  12,  13,  14,  15,\n",
       "        16,  18,  20,  21,  22,  23,  24,  25,  26,  28,  37,  38,  41,\n",
       "        42,  43,  44,  48,  49,  52,  54,  56,  57,  58,  59,  60,  62,\n",
       "        63,  64,  65,  69,  70,  72,  73,  75,  76,  77,  79,  81,  82,\n",
       "        83,  84,  85,  87,  89,  90,  91,  92,  94,  95,  96,  97,  99,\n",
       "       100, 101, 102, 104, 106, 109, 110, 112, 113, 114, 115, 116, 117,\n",
       "       118, 119, 121, 122, 123, 125, 126, 128, 130, 135, 137, 138, 141,\n",
       "       144, 145, 148, 150, 151, 152, 154, 157, 158, 159, 160, 161, 162,\n",
       "       164, 167, 168, 174, 176, 177, 178, 180, 181, 183, 184, 185, 186,\n",
       "       187, 188, 189, 190, 193, 194, 195, 197, 198, 199, 200, 201, 203,\n",
       "       204, 206, 207, 208, 210, 213, 214, 215, 216, 217, 218, 221, 222,\n",
       "       223, 224, 227, 230, 232, 233, 234, 235, 236, 237, 239, 243, 244,\n",
       "       246, 248, 249, 250, 251, 253, 254, 255, 256, 257, 262, 263, 264,\n",
       "       267, 268, 269, 270, 271, 272, 274, 275, 276, 277, 279, 280, 283,\n",
       "       286, 287, 288, 290, 291, 292, 293, 294, 295, 296, 297, 298, 299,\n",
       "       301, 303, 305, 307, 308, 311, 312, 313, 314, 315, 316, 318, 320,\n",
       "       321, 322, 323, 325, 326, 327, 328, 329, 330, 331, 332, 334, 336,\n",
       "       338, 339, 342, 343, 344, 345, 346, 347, 348, 354, 357, 360, 361,\n",
       "       363, 365, 367, 372, 373, 374, 378, 379, 380, 381, 382, 385, 387,\n",
       "       389, 391, 392, 393, 394, 397, 398, 399, 401, 405, 406, 407, 409,\n",
       "       416, 417, 425, 429, 435, 437, 450], dtype=int64)"
      ]
     },
     "execution_count": 7,
     "metadata": {},
     "output_type": "execute_result"
    }
   ],
   "source": [
    "ratings_id"
   ]
  },
  {
   "cell_type": "code",
   "execution_count": 8,
   "metadata": {},
   "outputs": [],
   "source": [
    "result = ratings.merge(preds, how='left', on=['userId', 'itemId'])"
   ]
  },
  {
   "cell_type": "code",
   "execution_count": 9,
   "metadata": {},
   "outputs": [],
   "source": [
    "result['rank_x'] = result.groupby('userId')['rating_x'].rank(ascending = False, method = 'first')\n",
    "result['rank_y'] = result.groupby('userId')['rating_y'].rank(ascending = False, method = 'first')"
   ]
  },
  {
   "cell_type": "markdown",
   "metadata": {},
   "source": [
    "# 2. MAP"
   ]
  },
  {
   "cell_type": "code",
   "execution_count": 10,
   "metadata": {},
   "outputs": [],
   "source": [
    "result_userId = result.userId.unique()"
   ]
  },
  {
   "cell_type": "code",
   "execution_count": 11,
   "metadata": {},
   "outputs": [],
   "source": [
    "tmp_ap_list = []\n",
    "for user in result_userId:\n",
    "    tmp_10 = result[result.userId == int(user)].sort_values(by='rank_x', ascending=True)[:10]\n",
    "    tmp_ap = (tmp_10.rank_y <= 10).sum()\n",
    "    tmp_ap_list += [tmp_ap/10]"
   ]
  },
  {
   "cell_type": "code",
   "execution_count": 12,
   "metadata": {},
   "outputs": [],
   "source": [
    "def user_preccision(data10):\n",
    "    tmp_prec_list = []\n",
    "    for i in range(len(data10)):\n",
    "        tmp_prec = (i+1)/data10.index[i]\n",
    "        tmp_prec_list += [tmp_prec]\n",
    "    return np.array(tmp_prec_list).sum()/len(tmp_prec_list)"
   ]
  },
  {
   "cell_type": "code",
   "execution_count": 13,
   "metadata": {},
   "outputs": [
    {
     "name": "stderr",
     "output_type": "stream",
     "text": [
      "C:\\Users\\fried_egg_\\Anaconda3\\lib\\site-packages\\ipykernel_launcher.py:6: RuntimeWarning: invalid value encountered in double_scalars\n",
      "  \n"
     ]
    }
   ],
   "source": [
    "tmp_ap_list = []\n",
    "for user in result_userId:\n",
    "    tmp_10 = result[result.userId == int(user)].sort_values(by='rank_x', ascending=True)[:10]\n",
    "    tmp_10.index = range(1, 11)\n",
    "    tmp_10_true = tmp_10[tmp_10.rank_y <=10]\n",
    "    tmp_calc = user_preccision(tmp_10_true)\n",
    "    if  math.isnan(tmp_calc) == True:\n",
    "        tmp_ap_list += [0]\n",
    "    else:\n",
    "        tmp_ap_list += [tmp_calc]"
   ]
  },
  {
   "cell_type": "code",
   "execution_count": 14,
   "metadata": {},
   "outputs": [
    {
     "data": {
      "text/plain": [
       "0.5856838408480329"
      ]
     },
     "execution_count": 14,
     "metadata": {},
     "output_type": "execute_result"
    }
   ],
   "source": [
    "### MAP 계산\n",
    "np.array(tmp_ap_list).mean()"
   ]
  },
  {
   "cell_type": "markdown",
   "metadata": {},
   "source": [
    "# 3. nDCG"
   ]
  },
  {
   "cell_type": "code",
   "execution_count": 15,
   "metadata": {},
   "outputs": [],
   "source": [
    "to2 = np.array([1,1])\n",
    "from3_to10 =np.log2(np.array(range(3,11)))\n",
    "dcg_calc_col = np.concatenate((to2, from3_to10), axis=None)\n",
    "tmp_ndcg_list = []\n",
    "\n",
    "for user in result_userId:\n",
    "    tmp_10 = result[result.userId == int(user)].sort_values(by='rank_x', ascending=True)[:10]\n",
    "    tmp_dcg = tmp_10.rating_y\n",
    "    tmp_perfect_dcg = tmp_10.rating_y.sort_values(ascending=False)\n",
    "    ndcg_user = (tmp_dcg/dcg_calc_col).sum() / (tmp_perfect_dcg/dcg_calc_col).sum()\n",
    "    tmp_ndcg_list += [ndcg_user]"
   ]
  },
  {
   "cell_type": "code",
   "execution_count": 16,
   "metadata": {},
   "outputs": [
    {
     "data": {
      "text/plain": [
       "0.972169985026755"
      ]
     },
     "execution_count": 16,
     "metadata": {},
     "output_type": "execute_result"
    }
   ],
   "source": [
    "## nDCG의 mean\n",
    "np.array(tmp_ndcg_list).mean()"
   ]
  },
  {
   "cell_type": "markdown",
   "metadata": {},
   "source": [
    "# 4. binary nDCG"
   ]
  },
  {
   "cell_type": "code",
   "execution_count": 17,
   "metadata": {},
   "outputs": [
    {
     "name": "stderr",
     "output_type": "stream",
     "text": [
      "C:\\Users\\fried_egg_\\Anaconda3\\lib\\site-packages\\ipykernel_launcher.py:10: RuntimeWarning: invalid value encountered in double_scalars\n",
      "  # Remove the CWD from sys.path while we load stuff.\n"
     ]
    }
   ],
   "source": [
    "to2 = np.array([1,1])\n",
    "from3_to10 =np.log2(np.array(range(3,11)))\n",
    "dcg_calc_col = np.concatenate((to2, from3_to10), axis=None)\n",
    "tmp_ndcg_list = []\n",
    "\n",
    "for user in result_userId:\n",
    "    tmp_10 = result[result.userId == int(user)].sort_values(by='rank_x', ascending=True)[:10]\n",
    "    tmp_dcg = tmp_10.rating_y >= 4\n",
    "    tmp_perfect_dcg = tmp_10.rating_y.sort_values(ascending=False) >= 4\n",
    "    ndcg_user = (tmp_dcg/dcg_calc_col).sum() / (tmp_perfect_dcg/dcg_calc_col).sum()\n",
    "    if  math.isnan(ndcg_user) == True:\n",
    "        tmp_ndcg_list += [0]\n",
    "    else:\n",
    "        tmp_ndcg_list += [ndcg_user]"
   ]
  },
  {
   "cell_type": "code",
   "execution_count": 18,
   "metadata": {},
   "outputs": [
    {
     "data": {
      "text/plain": [
       "0.7086122144564958"
      ]
     },
     "execution_count": 18,
     "metadata": {},
     "output_type": "execute_result"
    }
   ],
   "source": [
    "### binary nDCG 계산\n",
    "np.array(tmp_ndcg_list).mean()"
   ]
  }
 ],
 "metadata": {
  "kernelspec": {
   "display_name": "Python 3",
   "language": "python",
   "name": "python3"
  },
  "language_info": {
   "codemirror_mode": {
    "name": "ipython",
    "version": 3
   },
   "file_extension": ".py",
   "mimetype": "text/x-python",
   "name": "python",
   "nbconvert_exporter": "python",
   "pygments_lexer": "ipython3",
   "version": "3.7.4"
  }
 },
 "nbformat": 4,
 "nbformat_minor": 2
}

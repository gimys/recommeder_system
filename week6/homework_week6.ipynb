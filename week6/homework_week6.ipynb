{
 "cells": [
  {
   "cell_type": "code",
   "execution_count": 44,
   "metadata": {},
   "outputs": [],
   "source": [
    "import pandas as pd\n",
    "import numpy as np"
   ]
  },
  {
   "cell_type": "code",
   "execution_count": 45,
   "metadata": {},
   "outputs": [],
   "source": [
    "ratings = pd.read_csv('ml-ratings.csv')"
   ]
  },
  {
   "cell_type": "code",
   "execution_count": 46,
   "metadata": {},
   "outputs": [],
   "source": [
    "preds = pd.read_csv('ml-preds.csv')"
   ]
  },
  {
   "cell_type": "code",
   "execution_count": 4,
   "metadata": {},
   "outputs": [
    {
     "data": {
      "text/html": [
       "<div>\n",
       "<style scoped>\n",
       "    .dataframe tbody tr th:only-of-type {\n",
       "        vertical-align: middle;\n",
       "    }\n",
       "\n",
       "    .dataframe tbody tr th {\n",
       "        vertical-align: top;\n",
       "    }\n",
       "\n",
       "    .dataframe thead th {\n",
       "        text-align: right;\n",
       "    }\n",
       "</style>\n",
       "<table border=\"1\" class=\"dataframe\">\n",
       "  <thead>\n",
       "    <tr style=\"text-align: right;\">\n",
       "      <th></th>\n",
       "      <th>Unnamed: 0</th>\n",
       "      <th>userId</th>\n",
       "      <th>itemId</th>\n",
       "      <th>rating</th>\n",
       "    </tr>\n",
       "  </thead>\n",
       "  <tbody>\n",
       "    <tr>\n",
       "      <td>0</td>\n",
       "      <td>0</td>\n",
       "      <td>1</td>\n",
       "      <td>6</td>\n",
       "      <td>5</td>\n",
       "    </tr>\n",
       "    <tr>\n",
       "      <td>1</td>\n",
       "      <td>1</td>\n",
       "      <td>1</td>\n",
       "      <td>10</td>\n",
       "      <td>3</td>\n",
       "    </tr>\n",
       "    <tr>\n",
       "      <td>2</td>\n",
       "      <td>2</td>\n",
       "      <td>1</td>\n",
       "      <td>12</td>\n",
       "      <td>5</td>\n",
       "    </tr>\n",
       "    <tr>\n",
       "      <td>3</td>\n",
       "      <td>3</td>\n",
       "      <td>1</td>\n",
       "      <td>14</td>\n",
       "      <td>5</td>\n",
       "    </tr>\n",
       "    <tr>\n",
       "      <td>4</td>\n",
       "      <td>4</td>\n",
       "      <td>1</td>\n",
       "      <td>17</td>\n",
       "      <td>3</td>\n",
       "    </tr>\n",
       "    <tr>\n",
       "      <td>...</td>\n",
       "      <td>...</td>\n",
       "      <td>...</td>\n",
       "      <td>...</td>\n",
       "      <td>...</td>\n",
       "    </tr>\n",
       "    <tr>\n",
       "      <td>17914</td>\n",
       "      <td>19937</td>\n",
       "      <td>450</td>\n",
       "      <td>1160</td>\n",
       "      <td>5</td>\n",
       "    </tr>\n",
       "    <tr>\n",
       "      <td>17915</td>\n",
       "      <td>19938</td>\n",
       "      <td>450</td>\n",
       "      <td>1212</td>\n",
       "      <td>4</td>\n",
       "    </tr>\n",
       "    <tr>\n",
       "      <td>17916</td>\n",
       "      <td>19939</td>\n",
       "      <td>450</td>\n",
       "      <td>1226</td>\n",
       "      <td>4</td>\n",
       "    </tr>\n",
       "    <tr>\n",
       "      <td>17917</td>\n",
       "      <td>19940</td>\n",
       "      <td>450</td>\n",
       "      <td>1263</td>\n",
       "      <td>4</td>\n",
       "    </tr>\n",
       "    <tr>\n",
       "      <td>17918</td>\n",
       "      <td>19941</td>\n",
       "      <td>450</td>\n",
       "      <td>1269</td>\n",
       "      <td>4</td>\n",
       "    </tr>\n",
       "  </tbody>\n",
       "</table>\n",
       "<p>17919 rows × 4 columns</p>\n",
       "</div>"
      ],
      "text/plain": [
       "       Unnamed: 0  userId  itemId  rating\n",
       "0               0       1       6       5\n",
       "1               1       1      10       3\n",
       "2               2       1      12       5\n",
       "3               3       1      14       5\n",
       "4               4       1      17       3\n",
       "...           ...     ...     ...     ...\n",
       "17914       19937     450    1160       5\n",
       "17915       19938     450    1212       4\n",
       "17916       19939     450    1226       4\n",
       "17917       19940     450    1263       4\n",
       "17918       19941     450    1269       4\n",
       "\n",
       "[17919 rows x 4 columns]"
      ]
     },
     "execution_count": 4,
     "metadata": {},
     "output_type": "execute_result"
    }
   ],
   "source": [
    "ratings"
   ]
  },
  {
   "cell_type": "markdown",
   "metadata": {},
   "source": [
    "# 1. 전처리"
   ]
  },
  {
   "cell_type": "code",
   "execution_count": 5,
   "metadata": {},
   "outputs": [
    {
     "data": {
      "text/html": [
       "<div>\n",
       "<style scoped>\n",
       "    .dataframe tbody tr th:only-of-type {\n",
       "        vertical-align: middle;\n",
       "    }\n",
       "\n",
       "    .dataframe tbody tr th {\n",
       "        vertical-align: top;\n",
       "    }\n",
       "\n",
       "    .dataframe thead th {\n",
       "        text-align: right;\n",
       "    }\n",
       "</style>\n",
       "<table border=\"1\" class=\"dataframe\">\n",
       "  <thead>\n",
       "    <tr style=\"text-align: right;\">\n",
       "      <th></th>\n",
       "      <th>Unnamed: 0</th>\n",
       "      <th>userId</th>\n",
       "      <th>itemId</th>\n",
       "      <th>rating</th>\n",
       "    </tr>\n",
       "  </thead>\n",
       "  <tbody>\n",
       "    <tr>\n",
       "      <td>0</td>\n",
       "      <td>0</td>\n",
       "      <td>1</td>\n",
       "      <td>6</td>\n",
       "      <td>5</td>\n",
       "    </tr>\n",
       "    <tr>\n",
       "      <td>1</td>\n",
       "      <td>1</td>\n",
       "      <td>1</td>\n",
       "      <td>10</td>\n",
       "      <td>3</td>\n",
       "    </tr>\n",
       "    <tr>\n",
       "      <td>2</td>\n",
       "      <td>2</td>\n",
       "      <td>1</td>\n",
       "      <td>12</td>\n",
       "      <td>5</td>\n",
       "    </tr>\n",
       "    <tr>\n",
       "      <td>3</td>\n",
       "      <td>3</td>\n",
       "      <td>1</td>\n",
       "      <td>14</td>\n",
       "      <td>5</td>\n",
       "    </tr>\n",
       "    <tr>\n",
       "      <td>4</td>\n",
       "      <td>4</td>\n",
       "      <td>1</td>\n",
       "      <td>17</td>\n",
       "      <td>3</td>\n",
       "    </tr>\n",
       "  </tbody>\n",
       "</table>\n",
       "</div>"
      ],
      "text/plain": [
       "   Unnamed: 0  userId  itemId  rating\n",
       "0           0       1       6       5\n",
       "1           1       1      10       3\n",
       "2           2       1      12       5\n",
       "3           3       1      14       5\n",
       "4           4       1      17       3"
      ]
     },
     "execution_count": 5,
     "metadata": {},
     "output_type": "execute_result"
    }
   ],
   "source": [
    "ratings.head()"
   ]
  },
  {
   "cell_type": "code",
   "execution_count": 6,
   "metadata": {},
   "outputs": [],
   "source": [
    "ratings_id = ratings.userId.unique()\n",
    "pred_id = preds.userId.unique()"
   ]
  },
  {
   "cell_type": "code",
   "execution_count": 25,
   "metadata": {},
   "outputs": [
    {
     "data": {
      "text/plain": [
       "array([  1,   2,   3,   5,   6,   7,   8,  10,  11,  12,  13,  14,  15,\n",
       "        16,  18,  20,  21,  22,  23,  24,  25,  26,  28,  37,  38,  41,\n",
       "        42,  43,  44,  48,  49,  52,  54,  56,  57,  58,  59,  60,  62,\n",
       "        63,  64,  65,  69,  70,  72,  73,  75,  76,  77,  79,  81,  82,\n",
       "        83,  84,  85,  87,  89,  90,  91,  92,  94,  95,  96,  97,  99,\n",
       "       100, 101, 102, 104, 106, 109, 110, 112, 113, 114, 115, 116, 117,\n",
       "       118, 119, 121, 122, 123, 125, 126, 128, 130, 135, 137, 138, 141,\n",
       "       144, 145, 148, 150, 151, 152, 154, 157, 158, 159, 160, 161, 162,\n",
       "       164, 167, 168, 174, 176, 177, 178, 180, 181, 183, 184, 185, 186,\n",
       "       187, 188, 189, 190, 193, 194, 195, 197, 198, 199, 200, 201, 203,\n",
       "       204, 206, 207, 208, 210, 213, 214, 215, 216, 217, 218, 221, 222,\n",
       "       223, 224, 227, 230, 232, 233, 234, 235, 236, 237, 239, 243, 244,\n",
       "       246, 248, 249, 250, 251, 253, 254, 255, 256, 257, 262, 263, 264,\n",
       "       267, 268, 269, 270, 271, 272, 274, 275, 276, 277, 279, 280, 283,\n",
       "       286, 287, 288, 290, 291, 292, 293, 294, 295, 296, 297, 298, 299,\n",
       "       301, 303, 305, 307, 308, 311, 312, 313, 314, 315, 316, 318, 320,\n",
       "       321, 322, 323, 325, 326, 327, 328, 329, 330, 331, 332, 334, 336,\n",
       "       338, 339, 342, 343, 344, 345, 346, 347, 348, 354, 357, 360, 361,\n",
       "       363, 365, 367, 372, 373, 374, 378, 379, 380, 381, 382, 385, 387,\n",
       "       389, 391, 392, 393, 394, 397, 398, 399, 401, 405, 406, 407, 409,\n",
       "       416, 417, 425, 429, 435, 437, 450], dtype=int64)"
      ]
     },
     "execution_count": 25,
     "metadata": {},
     "output_type": "execute_result"
    }
   ],
   "source": [
    "ratings_id"
   ]
  },
  {
   "cell_type": "code",
   "execution_count": 49,
   "metadata": {
    "scrolled": true
   },
   "outputs": [],
   "source": [
    "ratings['rank'] = ratings.groupby('userId').rating.rank(ascending = False, method = 'first')\n",
    "preds['rank'] = preds.groupby('userId').rating.rank(ascending = False, method = 'first')"
   ]
  },
  {
   "cell_type": "code",
   "execution_count": 50,
   "metadata": {},
   "outputs": [
    {
     "data": {
      "text/html": [
       "<div>\n",
       "<style scoped>\n",
       "    .dataframe tbody tr th:only-of-type {\n",
       "        vertical-align: middle;\n",
       "    }\n",
       "\n",
       "    .dataframe tbody tr th {\n",
       "        vertical-align: top;\n",
       "    }\n",
       "\n",
       "    .dataframe thead th {\n",
       "        text-align: right;\n",
       "    }\n",
       "</style>\n",
       "<table border=\"1\" class=\"dataframe\">\n",
       "  <thead>\n",
       "    <tr style=\"text-align: right;\">\n",
       "      <th></th>\n",
       "      <th>Unnamed: 0</th>\n",
       "      <th>userId</th>\n",
       "      <th>itemId</th>\n",
       "      <th>rating</th>\n",
       "      <th>rank</th>\n",
       "    </tr>\n",
       "  </thead>\n",
       "  <tbody>\n",
       "    <tr>\n",
       "      <td>0</td>\n",
       "      <td>0</td>\n",
       "      <td>1</td>\n",
       "      <td>6</td>\n",
       "      <td>5</td>\n",
       "      <td>1.0</td>\n",
       "    </tr>\n",
       "    <tr>\n",
       "      <td>1</td>\n",
       "      <td>1</td>\n",
       "      <td>1</td>\n",
       "      <td>10</td>\n",
       "      <td>3</td>\n",
       "      <td>80.0</td>\n",
       "    </tr>\n",
       "    <tr>\n",
       "      <td>2</td>\n",
       "      <td>2</td>\n",
       "      <td>1</td>\n",
       "      <td>12</td>\n",
       "      <td>5</td>\n",
       "      <td>2.0</td>\n",
       "    </tr>\n",
       "    <tr>\n",
       "      <td>3</td>\n",
       "      <td>3</td>\n",
       "      <td>1</td>\n",
       "      <td>14</td>\n",
       "      <td>5</td>\n",
       "      <td>3.0</td>\n",
       "    </tr>\n",
       "    <tr>\n",
       "      <td>4</td>\n",
       "      <td>4</td>\n",
       "      <td>1</td>\n",
       "      <td>17</td>\n",
       "      <td>3</td>\n",
       "      <td>81.0</td>\n",
       "    </tr>\n",
       "    <tr>\n",
       "      <td>...</td>\n",
       "      <td>...</td>\n",
       "      <td>...</td>\n",
       "      <td>...</td>\n",
       "      <td>...</td>\n",
       "      <td>...</td>\n",
       "    </tr>\n",
       "    <tr>\n",
       "      <td>17914</td>\n",
       "      <td>19937</td>\n",
       "      <td>450</td>\n",
       "      <td>1160</td>\n",
       "      <td>5</td>\n",
       "      <td>14.0</td>\n",
       "    </tr>\n",
       "    <tr>\n",
       "      <td>17915</td>\n",
       "      <td>19938</td>\n",
       "      <td>450</td>\n",
       "      <td>1212</td>\n",
       "      <td>4</td>\n",
       "      <td>32.0</td>\n",
       "    </tr>\n",
       "    <tr>\n",
       "      <td>17916</td>\n",
       "      <td>19939</td>\n",
       "      <td>450</td>\n",
       "      <td>1226</td>\n",
       "      <td>4</td>\n",
       "      <td>33.0</td>\n",
       "    </tr>\n",
       "    <tr>\n",
       "      <td>17917</td>\n",
       "      <td>19940</td>\n",
       "      <td>450</td>\n",
       "      <td>1263</td>\n",
       "      <td>4</td>\n",
       "      <td>34.0</td>\n",
       "    </tr>\n",
       "    <tr>\n",
       "      <td>17918</td>\n",
       "      <td>19941</td>\n",
       "      <td>450</td>\n",
       "      <td>1269</td>\n",
       "      <td>4</td>\n",
       "      <td>35.0</td>\n",
       "    </tr>\n",
       "  </tbody>\n",
       "</table>\n",
       "<p>17919 rows × 5 columns</p>\n",
       "</div>"
      ],
      "text/plain": [
       "       Unnamed: 0  userId  itemId  rating  rank\n",
       "0               0       1       6       5   1.0\n",
       "1               1       1      10       3  80.0\n",
       "2               2       1      12       5   2.0\n",
       "3               3       1      14       5   3.0\n",
       "4               4       1      17       3  81.0\n",
       "...           ...     ...     ...     ...   ...\n",
       "17914       19937     450    1160       5  14.0\n",
       "17915       19938     450    1212       4  32.0\n",
       "17916       19939     450    1226       4  33.0\n",
       "17917       19940     450    1263       4  34.0\n",
       "17918       19941     450    1269       4  35.0\n",
       "\n",
       "[17919 rows x 5 columns]"
      ]
     },
     "execution_count": 50,
     "metadata": {},
     "output_type": "execute_result"
    }
   ],
   "source": []
  },
  {
   "cell_type": "markdown",
   "metadata": {},
   "source": [
    "## @10 sheet 제작"
   ]
  },
  {
   "cell_type": "code",
   "execution_count": 9,
   "metadata": {},
   "outputs": [],
   "source": [
    "def make_k_sheet(data, k):\n",
    "    tmp_list = data.userId.unique()\n",
    "    for num in range(len(tmp_list)):\n",
    "        if num == 0 :\n",
    "            tmp_df = data[data.userId == int(tmp_list[num])][:k]\n",
    "        else:\n",
    "            tmp_df = tmp_df.append(data[data.userId == int(tmp_list[num])][:k])\n",
    "    return tmp_df"
   ]
  },
  {
   "cell_type": "code",
   "execution_count": 28,
   "metadata": {},
   "outputs": [],
   "source": [
    "ratings10 = make_k_sheet(ratings,10)\n",
    "preds10 = make_k_sheet(preds,10)"
   ]
  },
  {
   "cell_type": "code",
   "execution_count": 36,
   "metadata": {},
   "outputs": [],
   "source": [
    "preds_all = preds.copy()\n",
    "preds_all.columns = ['Unnamed: 0', 'userId', 'itemId', 'pred_rating', 'pred_rank']"
   ]
  },
  {
   "cell_type": "code",
   "execution_count": 29,
   "metadata": {},
   "outputs": [],
   "source": [
    "preds10.columns = ['Unnamed: 0', 'userId', 'itemId', 'pred_rating', 'pred_rank']"
   ]
  },
  {
   "cell_type": "code",
   "execution_count": 30,
   "metadata": {},
   "outputs": [],
   "source": [
    "preds10 = preds10.drop(columns=['Unnamed: 0'])"
   ]
  },
  {
   "cell_type": "code",
   "execution_count": 47,
   "metadata": {},
   "outputs": [],
   "source": [
    "result10 = ratings.merge(preds, how='left', on=['userId', 'itemId'])"
   ]
  },
  {
   "cell_type": "code",
   "execution_count": 48,
   "metadata": {},
   "outputs": [
    {
     "data": {
      "text/html": [
       "<div>\n",
       "<style scoped>\n",
       "    .dataframe tbody tr th:only-of-type {\n",
       "        vertical-align: middle;\n",
       "    }\n",
       "\n",
       "    .dataframe tbody tr th {\n",
       "        vertical-align: top;\n",
       "    }\n",
       "\n",
       "    .dataframe thead th {\n",
       "        text-align: right;\n",
       "    }\n",
       "</style>\n",
       "<table border=\"1\" class=\"dataframe\">\n",
       "  <thead>\n",
       "    <tr style=\"text-align: right;\">\n",
       "      <th></th>\n",
       "      <th>Unnamed: 0_x</th>\n",
       "      <th>userId</th>\n",
       "      <th>itemId</th>\n",
       "      <th>rating_x</th>\n",
       "      <th>Unnamed: 0_y</th>\n",
       "      <th>rating_y</th>\n",
       "    </tr>\n",
       "  </thead>\n",
       "  <tbody>\n",
       "    <tr>\n",
       "      <td>0</td>\n",
       "      <td>0</td>\n",
       "      <td>1</td>\n",
       "      <td>6</td>\n",
       "      <td>5</td>\n",
       "      <td>0</td>\n",
       "      <td>3.846799</td>\n",
       "    </tr>\n",
       "    <tr>\n",
       "      <td>1</td>\n",
       "      <td>1</td>\n",
       "      <td>1</td>\n",
       "      <td>10</td>\n",
       "      <td>3</td>\n",
       "      <td>1</td>\n",
       "      <td>3.997140</td>\n",
       "    </tr>\n",
       "    <tr>\n",
       "      <td>2</td>\n",
       "      <td>2</td>\n",
       "      <td>1</td>\n",
       "      <td>12</td>\n",
       "      <td>5</td>\n",
       "      <td>2</td>\n",
       "      <td>4.567387</td>\n",
       "    </tr>\n",
       "    <tr>\n",
       "      <td>3</td>\n",
       "      <td>3</td>\n",
       "      <td>1</td>\n",
       "      <td>14</td>\n",
       "      <td>5</td>\n",
       "      <td>3</td>\n",
       "      <td>3.943916</td>\n",
       "    </tr>\n",
       "    <tr>\n",
       "      <td>4</td>\n",
       "      <td>4</td>\n",
       "      <td>1</td>\n",
       "      <td>17</td>\n",
       "      <td>3</td>\n",
       "      <td>4</td>\n",
       "      <td>3.097442</td>\n",
       "    </tr>\n",
       "  </tbody>\n",
       "</table>\n",
       "</div>"
      ],
      "text/plain": [
       "   Unnamed: 0_x  userId  itemId  rating_x  Unnamed: 0_y  rating_y\n",
       "0             0       1       6         5             0  3.846799\n",
       "1             1       1      10         3             1  3.997140\n",
       "2             2       1      12         5             2  4.567387\n",
       "3             3       1      14         5             3  3.943916\n",
       "4             4       1      17         3             4  3.097442"
      ]
     },
     "execution_count": 48,
     "metadata": {},
     "output_type": "execute_result"
    }
   ],
   "source": [
    "result10[result10.userId == 1].head()"
   ]
  },
  {
   "cell_type": "code",
   "execution_count": 33,
   "metadata": {},
   "outputs": [
    {
     "data": {
      "text/plain": [
       "Unnamed: 0     2670\n",
       "userId         2670\n",
       "itemId         2670\n",
       "rating         2670\n",
       "rank           2670\n",
       "pred_rating     838\n",
       "pred_rank       838\n",
       "dtype: int64"
      ]
     },
     "execution_count": 33,
     "metadata": {},
     "output_type": "execute_result"
    }
   ],
   "source": [
    "result10.count()"
   ]
  },
  {
   "cell_type": "code",
   "execution_count": 34,
   "metadata": {},
   "outputs": [
    {
     "data": {
      "text/plain": [
       "0.3138576779026217"
      ]
     },
     "execution_count": 34,
     "metadata": {},
     "output_type": "execute_result"
    }
   ],
   "source": [
    "838/2670"
   ]
  },
  {
   "cell_type": "code",
   "execution_count": 14,
   "metadata": {},
   "outputs": [
    {
     "data": {
      "text/plain": [
       "userId\n",
       "1      0.0\n",
       "2      0.6\n",
       "3      0.5\n",
       "5      0.2\n",
       "6      0.1\n",
       "      ... \n",
       "425    0.4\n",
       "429    0.3\n",
       "435    0.6\n",
       "437    0.5\n",
       "450    0.4\n",
       "Name: pred_rating, Length: 267, dtype: float64"
      ]
     },
     "execution_count": 14,
     "metadata": {},
     "output_type": "execute_result"
    }
   ],
   "source": [
    "all_recall = result10.groupby('userId')['pred_rating'].count()/10\n",
    "all_recall"
   ]
  },
  {
   "cell_type": "code",
   "execution_count": 15,
   "metadata": {},
   "outputs": [
    {
     "data": {
      "text/plain": [
       "0.31385767790262176"
      ]
     },
     "execution_count": 15,
     "metadata": {},
     "output_type": "execute_result"
    }
   ],
   "source": [
    "all_recall.sum()/len(all_recall)"
   ]
  },
  {
   "cell_type": "markdown",
   "metadata": {},
   "source": [
    "## MRR"
   ]
  },
  {
   "cell_type": "code",
   "execution_count": 16,
   "metadata": {},
   "outputs": [],
   "source": [
    "result10.index = [ x for x in range(1,11)]*267"
   ]
  },
  {
   "cell_type": "code",
   "execution_count": 17,
   "metadata": {
    "scrolled": true
   },
   "outputs": [
    {
     "data": {
      "text/html": [
       "<div>\n",
       "<style scoped>\n",
       "    .dataframe tbody tr th:only-of-type {\n",
       "        vertical-align: middle;\n",
       "    }\n",
       "\n",
       "    .dataframe tbody tr th {\n",
       "        vertical-align: top;\n",
       "    }\n",
       "\n",
       "    .dataframe thead th {\n",
       "        text-align: right;\n",
       "    }\n",
       "</style>\n",
       "<table border=\"1\" class=\"dataframe\">\n",
       "  <thead>\n",
       "    <tr style=\"text-align: right;\">\n",
       "      <th></th>\n",
       "      <th>Unnamed: 0</th>\n",
       "      <th>userId</th>\n",
       "      <th>itemId</th>\n",
       "      <th>rating</th>\n",
       "      <th>rank</th>\n",
       "      <th>pred_rating</th>\n",
       "      <th>pred_rank</th>\n",
       "    </tr>\n",
       "  </thead>\n",
       "  <tbody>\n",
       "    <tr>\n",
       "      <td>1</td>\n",
       "      <td>19937</td>\n",
       "      <td>450</td>\n",
       "      <td>1160</td>\n",
       "      <td>5</td>\n",
       "      <td>46.0</td>\n",
       "      <td>NaN</td>\n",
       "      <td>NaN</td>\n",
       "    </tr>\n",
       "    <tr>\n",
       "      <td>2</td>\n",
       "      <td>19933</td>\n",
       "      <td>450</td>\n",
       "      <td>942</td>\n",
       "      <td>5</td>\n",
       "      <td>45.0</td>\n",
       "      <td>NaN</td>\n",
       "      <td>NaN</td>\n",
       "    </tr>\n",
       "    <tr>\n",
       "      <td>3</td>\n",
       "      <td>19923</td>\n",
       "      <td>450</td>\n",
       "      <td>659</td>\n",
       "      <td>5</td>\n",
       "      <td>44.0</td>\n",
       "      <td>4.413108</td>\n",
       "      <td>43.0</td>\n",
       "    </tr>\n",
       "    <tr>\n",
       "      <td>4</td>\n",
       "      <td>19919</td>\n",
       "      <td>450</td>\n",
       "      <td>496</td>\n",
       "      <td>5</td>\n",
       "      <td>43.0</td>\n",
       "      <td>4.407806</td>\n",
       "      <td>42.0</td>\n",
       "    </tr>\n",
       "    <tr>\n",
       "      <td>5</td>\n",
       "      <td>19916</td>\n",
       "      <td>450</td>\n",
       "      <td>470</td>\n",
       "      <td>5</td>\n",
       "      <td>42.0</td>\n",
       "      <td>NaN</td>\n",
       "      <td>NaN</td>\n",
       "    </tr>\n",
       "  </tbody>\n",
       "</table>\n",
       "</div>"
      ],
      "text/plain": [
       "   Unnamed: 0  userId  itemId  rating  rank  pred_rating  pred_rank\n",
       "1       19937     450    1160       5  46.0          NaN        NaN\n",
       "2       19933     450     942       5  45.0          NaN        NaN\n",
       "3       19923     450     659       5  44.0     4.413108       43.0\n",
       "4       19919     450     496       5  43.0     4.407806       42.0\n",
       "5       19916     450     470       5  42.0          NaN        NaN"
      ]
     },
     "execution_count": 17,
     "metadata": {},
     "output_type": "execute_result"
    }
   ],
   "source": [
    "result10.head()"
   ]
  },
  {
   "cell_type": "code",
   "execution_count": 18,
   "metadata": {
    "scrolled": true
   },
   "outputs": [
    {
     "data": {
      "text/html": [
       "<div>\n",
       "<style scoped>\n",
       "    .dataframe tbody tr th:only-of-type {\n",
       "        vertical-align: middle;\n",
       "    }\n",
       "\n",
       "    .dataframe tbody tr th {\n",
       "        vertical-align: top;\n",
       "    }\n",
       "\n",
       "    .dataframe thead th {\n",
       "        text-align: right;\n",
       "    }\n",
       "</style>\n",
       "<table border=\"1\" class=\"dataframe\">\n",
       "  <thead>\n",
       "    <tr style=\"text-align: right;\">\n",
       "      <th></th>\n",
       "      <th>Unnamed: 0</th>\n",
       "      <th>userId</th>\n",
       "      <th>itemId</th>\n",
       "      <th>rating</th>\n",
       "      <th>rank</th>\n",
       "      <th>pred_rating</th>\n",
       "      <th>pred_rank</th>\n",
       "    </tr>\n",
       "  </thead>\n",
       "  <tbody>\n",
       "    <tr>\n",
       "      <td>3</td>\n",
       "      <td>19923</td>\n",
       "      <td>450</td>\n",
       "      <td>659</td>\n",
       "      <td>5</td>\n",
       "      <td>44.0</td>\n",
       "      <td>4.413108</td>\n",
       "      <td>43.0</td>\n",
       "    </tr>\n",
       "    <tr>\n",
       "      <td>4</td>\n",
       "      <td>19919</td>\n",
       "      <td>450</td>\n",
       "      <td>496</td>\n",
       "      <td>5</td>\n",
       "      <td>43.0</td>\n",
       "      <td>4.407806</td>\n",
       "      <td>42.0</td>\n",
       "    </tr>\n",
       "    <tr>\n",
       "      <td>8</td>\n",
       "      <td>19909</td>\n",
       "      <td>450</td>\n",
       "      <td>216</td>\n",
       "      <td>5</td>\n",
       "      <td>39.0</td>\n",
       "      <td>4.332774</td>\n",
       "      <td>39.0</td>\n",
       "    </tr>\n",
       "    <tr>\n",
       "      <td>9</td>\n",
       "      <td>19908</td>\n",
       "      <td>450</td>\n",
       "      <td>194</td>\n",
       "      <td>5</td>\n",
       "      <td>38.0</td>\n",
       "      <td>4.863709</td>\n",
       "      <td>45.0</td>\n",
       "    </tr>\n",
       "    <tr>\n",
       "      <td>3</td>\n",
       "      <td>19813</td>\n",
       "      <td>437</td>\n",
       "      <td>499</td>\n",
       "      <td>5</td>\n",
       "      <td>23.0</td>\n",
       "      <td>4.113330</td>\n",
       "      <td>22.0</td>\n",
       "    </tr>\n",
       "    <tr>\n",
       "      <td>...</td>\n",
       "      <td>...</td>\n",
       "      <td>...</td>\n",
       "      <td>...</td>\n",
       "      <td>...</td>\n",
       "      <td>...</td>\n",
       "      <td>...</td>\n",
       "      <td>...</td>\n",
       "    </tr>\n",
       "    <tr>\n",
       "      <td>2</td>\n",
       "      <td>155</td>\n",
       "      <td>2</td>\n",
       "      <td>313</td>\n",
       "      <td>5</td>\n",
       "      <td>21.0</td>\n",
       "      <td>4.257496</td>\n",
       "      <td>19.0</td>\n",
       "    </tr>\n",
       "    <tr>\n",
       "      <td>3</td>\n",
       "      <td>140</td>\n",
       "      <td>2</td>\n",
       "      <td>251</td>\n",
       "      <td>5</td>\n",
       "      <td>20.0</td>\n",
       "      <td>4.361705</td>\n",
       "      <td>21.0</td>\n",
       "    </tr>\n",
       "    <tr>\n",
       "      <td>4</td>\n",
       "      <td>139</td>\n",
       "      <td>2</td>\n",
       "      <td>50</td>\n",
       "      <td>5</td>\n",
       "      <td>19.0</td>\n",
       "      <td>4.493536</td>\n",
       "      <td>22.0</td>\n",
       "    </tr>\n",
       "    <tr>\n",
       "      <td>5</td>\n",
       "      <td>151</td>\n",
       "      <td>2</td>\n",
       "      <td>303</td>\n",
       "      <td>4</td>\n",
       "      <td>18.0</td>\n",
       "      <td>3.813972</td>\n",
       "      <td>14.0</td>\n",
       "    </tr>\n",
       "    <tr>\n",
       "      <td>8</td>\n",
       "      <td>147</td>\n",
       "      <td>2</td>\n",
       "      <td>297</td>\n",
       "      <td>4</td>\n",
       "      <td>15.0</td>\n",
       "      <td>4.012849</td>\n",
       "      <td>16.0</td>\n",
       "    </tr>\n",
       "  </tbody>\n",
       "</table>\n",
       "<p>838 rows × 7 columns</p>\n",
       "</div>"
      ],
      "text/plain": [
       "    Unnamed: 0  userId  itemId  rating  rank  pred_rating  pred_rank\n",
       "3        19923     450     659       5  44.0     4.413108       43.0\n",
       "4        19919     450     496       5  43.0     4.407806       42.0\n",
       "8        19909     450     216       5  39.0     4.332774       39.0\n",
       "9        19908     450     194       5  38.0     4.863709       45.0\n",
       "3        19813     437     499       5  23.0     4.113330       22.0\n",
       "..         ...     ...     ...     ...   ...          ...        ...\n",
       "2          155       2     313       5  21.0     4.257496       19.0\n",
       "3          140       2     251       5  20.0     4.361705       21.0\n",
       "4          139       2      50       5  19.0     4.493536       22.0\n",
       "5          151       2     303       4  18.0     3.813972       14.0\n",
       "8          147       2     297       4  15.0     4.012849       16.0\n",
       "\n",
       "[838 rows x 7 columns]"
      ]
     },
     "execution_count": 18,
     "metadata": {},
     "output_type": "execute_result"
    }
   ],
   "source": [
    "all_mrr = result10[result10.pred_rating.isnull() != True]\n",
    "all_mrr"
   ]
  },
  {
   "cell_type": "code",
   "execution_count": 19,
   "metadata": {},
   "outputs": [],
   "source": [
    "tmp_list = []\n",
    "tmp_userId = all_mrr.userId.unique()"
   ]
  },
  {
   "cell_type": "code",
   "execution_count": 20,
   "metadata": {},
   "outputs": [],
   "source": [
    "for i in range(len(tmp_userId)):\n",
    "    tmp_num = all_mrr[all_mrr.userId == int(tmp_userId[i])].index[0]\n",
    "    tmp_list = tmp_list + [1/tmp_num]"
   ]
  },
  {
   "cell_type": "code",
   "execution_count": 21,
   "metadata": {},
   "outputs": [
    {
     "data": {
      "text/html": [
       "<div>\n",
       "<style scoped>\n",
       "    .dataframe tbody tr th:only-of-type {\n",
       "        vertical-align: middle;\n",
       "    }\n",
       "\n",
       "    .dataframe tbody tr th {\n",
       "        vertical-align: top;\n",
       "    }\n",
       "\n",
       "    .dataframe thead th {\n",
       "        text-align: right;\n",
       "    }\n",
       "</style>\n",
       "<table border=\"1\" class=\"dataframe\">\n",
       "  <thead>\n",
       "    <tr style=\"text-align: right;\">\n",
       "      <th></th>\n",
       "      <th>userId</th>\n",
       "      <th>RR</th>\n",
       "    </tr>\n",
       "  </thead>\n",
       "  <tbody>\n",
       "    <tr>\n",
       "      <td>0</td>\n",
       "      <td>450</td>\n",
       "      <td>0.333333</td>\n",
       "    </tr>\n",
       "    <tr>\n",
       "      <td>1</td>\n",
       "      <td>437</td>\n",
       "      <td>0.333333</td>\n",
       "    </tr>\n",
       "    <tr>\n",
       "      <td>2</td>\n",
       "      <td>435</td>\n",
       "      <td>0.500000</td>\n",
       "    </tr>\n",
       "    <tr>\n",
       "      <td>3</td>\n",
       "      <td>429</td>\n",
       "      <td>0.500000</td>\n",
       "    </tr>\n",
       "    <tr>\n",
       "      <td>4</td>\n",
       "      <td>425</td>\n",
       "      <td>1.000000</td>\n",
       "    </tr>\n",
       "    <tr>\n",
       "      <td>...</td>\n",
       "      <td>...</td>\n",
       "      <td>...</td>\n",
       "    </tr>\n",
       "    <tr>\n",
       "      <td>241</td>\n",
       "      <td>7</td>\n",
       "      <td>0.333333</td>\n",
       "    </tr>\n",
       "    <tr>\n",
       "      <td>242</td>\n",
       "      <td>6</td>\n",
       "      <td>0.125000</td>\n",
       "    </tr>\n",
       "    <tr>\n",
       "      <td>243</td>\n",
       "      <td>5</td>\n",
       "      <td>0.111111</td>\n",
       "    </tr>\n",
       "    <tr>\n",
       "      <td>244</td>\n",
       "      <td>3</td>\n",
       "      <td>1.000000</td>\n",
       "    </tr>\n",
       "    <tr>\n",
       "      <td>245</td>\n",
       "      <td>2</td>\n",
       "      <td>1.000000</td>\n",
       "    </tr>\n",
       "  </tbody>\n",
       "</table>\n",
       "<p>246 rows × 2 columns</p>\n",
       "</div>"
      ],
      "text/plain": [
       "     userId        RR\n",
       "0       450  0.333333\n",
       "1       437  0.333333\n",
       "2       435  0.500000\n",
       "3       429  0.500000\n",
       "4       425  1.000000\n",
       "..      ...       ...\n",
       "241       7  0.333333\n",
       "242       6  0.125000\n",
       "243       5  0.111111\n",
       "244       3  1.000000\n",
       "245       2  1.000000\n",
       "\n",
       "[246 rows x 2 columns]"
      ]
     },
     "execution_count": 21,
     "metadata": {},
     "output_type": "execute_result"
    }
   ],
   "source": [
    "mrr_df = pd.DataFrame({'userId': all_mrr.userId.unique(), 'RR': tmp_list})\n",
    "mrr_df"
   ]
  },
  {
   "cell_type": "code",
   "execution_count": 22,
   "metadata": {},
   "outputs": [
    {
     "data": {
      "text/plain": [
       "0.4521712479029552"
      ]
     },
     "execution_count": 22,
     "metadata": {},
     "output_type": "execute_result"
    }
   ],
   "source": [
    "mrr_df.RR.sum()/len(mrr_df)"
   ]
  },
  {
   "cell_type": "code",
   "execution_count": null,
   "metadata": {},
   "outputs": [],
   "source": []
  }
 ],
 "metadata": {
  "kernelspec": {
   "display_name": "Python 3",
   "language": "python",
   "name": "python3"
  },
  "language_info": {
   "codemirror_mode": {
    "name": "ipython",
    "version": 3
   },
   "file_extension": ".py",
   "mimetype": "text/x-python",
   "name": "python",
   "nbconvert_exporter": "python",
   "pygments_lexer": "ipython3",
   "version": "3.7.4"
  }
 },
 "nbformat": 4,
 "nbformat_minor": 2
}
